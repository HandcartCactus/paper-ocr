{
 "cells": [
  {
   "cell_type": "code",
   "execution_count": 1,
   "metadata": {},
   "outputs": [
    {
     "name": "stdout",
     "output_type": "stream",
     "text": [
      "^C\n"
     ]
    },
    {
     "name": "stderr",
     "output_type": "stream",
     "text": [
      "ERROR: pip's dependency resolver does not currently take into account all the packages that are installed. This behaviour is the source of the following dependency conflicts.\n",
      "torchaudio 2.1.0+cu118 requires torch==2.1.0+cu118, but you have torch 2.5.1 which is incompatible.\n"
     ]
    },
    {
     "name": "stdout",
     "output_type": "stream",
     "text": [
      "Collecting texify\n",
      "  Downloading texify-0.2.1-py3-none-any.whl.metadata (10 kB)\n",
      "Requirement already satisfied: Pillow<11.0.0,>=10.1.0 in d:\\bin\\conda\\envs\\py310\\lib\\site-packages (from texify) (10.4.0)\n",
      "Collecting ftfy<7.0.0,>=6.1.3 (from texify)\n",
      "  Downloading ftfy-6.3.1-py3-none-any.whl.metadata (7.3 kB)\n",
      "Requirement already satisfied: pydantic<3.0.0,>=2.5.2 in d:\\bin\\conda\\envs\\py310\\lib\\site-packages (from texify) (2.8.2)\n",
      "Collecting pydantic-settings<3.0.0,>=2.1.0 (from texify)\n",
      "  Downloading pydantic_settings-2.6.1-py3-none-any.whl.metadata (3.5 kB)\n",
      "Collecting pypdfium2<5.0.0,>=4.25.0 (from texify)\n",
      "  Downloading pypdfium2-4.30.0-py3-none-win_amd64.whl.metadata (48 kB)\n",
      "Collecting python-dotenv<2.0.0,>=1.0.0 (from texify)\n",
      "  Using cached python_dotenv-1.0.1-py3-none-any.whl.metadata (23 kB)\n",
      "Collecting torch<3.0.0,>=2.1.2 (from texify)\n",
      "  Downloading torch-2.5.1-cp310-cp310-win_amd64.whl.metadata (28 kB)\n",
      "Requirement already satisfied: transformers<5.0.0,>=4.36.2 in d:\\bin\\conda\\envs\\py310\\lib\\site-packages (from texify) (4.44.0)\n",
      "Requirement already satisfied: wcwidth in d:\\bin\\conda\\envs\\py310\\lib\\site-packages (from ftfy<7.0.0,>=6.1.3->texify) (0.2.13)\n",
      "Requirement already satisfied: annotated-types>=0.4.0 in d:\\bin\\conda\\envs\\py310\\lib\\site-packages (from pydantic<3.0.0,>=2.5.2->texify) (0.7.0)\n",
      "Requirement already satisfied: pydantic-core==2.20.1 in d:\\bin\\conda\\envs\\py310\\lib\\site-packages (from pydantic<3.0.0,>=2.5.2->texify) (2.20.1)\n",
      "Requirement already satisfied: typing-extensions>=4.6.1 in d:\\bin\\conda\\envs\\py310\\lib\\site-packages (from pydantic<3.0.0,>=2.5.2->texify) (4.12.2)\n",
      "Requirement already satisfied: filelock in d:\\bin\\conda\\envs\\py310\\lib\\site-packages (from torch<3.0.0,>=2.1.2->texify) (3.15.4)\n",
      "Requirement already satisfied: networkx in d:\\bin\\conda\\envs\\py310\\lib\\site-packages (from torch<3.0.0,>=2.1.2->texify) (3.3)\n",
      "Requirement already satisfied: jinja2 in d:\\bin\\conda\\envs\\py310\\lib\\site-packages (from torch<3.0.0,>=2.1.2->texify) (3.1.4)\n",
      "Requirement already satisfied: fsspec in d:\\bin\\conda\\envs\\py310\\lib\\site-packages (from torch<3.0.0,>=2.1.2->texify) (2024.5.0)\n",
      "Collecting sympy==1.13.1 (from torch<3.0.0,>=2.1.2->texify)\n",
      "  Downloading sympy-1.13.1-py3-none-any.whl.metadata (12 kB)\n",
      "Requirement already satisfied: mpmath<1.4,>=1.1.0 in d:\\bin\\conda\\envs\\py310\\lib\\site-packages (from sympy==1.13.1->torch<3.0.0,>=2.1.2->texify) (1.3.0)\n",
      "Requirement already satisfied: huggingface-hub<1.0,>=0.23.2 in d:\\bin\\conda\\envs\\py310\\lib\\site-packages (from transformers<5.0.0,>=4.36.2->texify) (0.24.5)\n",
      "Requirement already satisfied: numpy>=1.17 in d:\\bin\\conda\\envs\\py310\\lib\\site-packages (from transformers<5.0.0,>=4.36.2->texify) (1.23.5)\n",
      "Requirement already satisfied: packaging>=20.0 in d:\\bin\\conda\\envs\\py310\\lib\\site-packages (from transformers<5.0.0,>=4.36.2->texify) (24.1)\n",
      "Requirement already satisfied: pyyaml>=5.1 in d:\\bin\\conda\\envs\\py310\\lib\\site-packages (from transformers<5.0.0,>=4.36.2->texify) (6.0.2)\n",
      "Requirement already satisfied: regex!=2019.12.17 in d:\\bin\\conda\\envs\\py310\\lib\\site-packages (from transformers<5.0.0,>=4.36.2->texify) (2024.7.24)\n",
      "Requirement already satisfied: requests in d:\\bin\\conda\\envs\\py310\\lib\\site-packages (from transformers<5.0.0,>=4.36.2->texify) (2.32.3)\n",
      "Requirement already satisfied: safetensors>=0.4.1 in d:\\bin\\conda\\envs\\py310\\lib\\site-packages (from transformers<5.0.0,>=4.36.2->texify) (0.4.4)\n",
      "Requirement already satisfied: tokenizers<0.20,>=0.19 in d:\\bin\\conda\\envs\\py310\\lib\\site-packages (from transformers<5.0.0,>=4.36.2->texify) (0.19.1)\n",
      "Requirement already satisfied: tqdm>=4.27 in d:\\bin\\conda\\envs\\py310\\lib\\site-packages (from transformers<5.0.0,>=4.36.2->texify) (4.66.5)\n",
      "Requirement already satisfied: colorama in d:\\bin\\conda\\envs\\py310\\lib\\site-packages (from tqdm>=4.27->transformers<5.0.0,>=4.36.2->texify) (0.4.6)\n",
      "Requirement already satisfied: MarkupSafe>=2.0 in d:\\bin\\conda\\envs\\py310\\lib\\site-packages (from jinja2->torch<3.0.0,>=2.1.2->texify) (2.1.5)\n",
      "Requirement already satisfied: charset-normalizer<4,>=2 in d:\\bin\\conda\\envs\\py310\\lib\\site-packages (from requests->transformers<5.0.0,>=4.36.2->texify) (3.3.2)\n",
      "Requirement already satisfied: idna<4,>=2.5 in d:\\bin\\conda\\envs\\py310\\lib\\site-packages (from requests->transformers<5.0.0,>=4.36.2->texify) (3.7)\n",
      "Requirement already satisfied: urllib3<3,>=1.21.1 in d:\\bin\\conda\\envs\\py310\\lib\\site-packages (from requests->transformers<5.0.0,>=4.36.2->texify) (2.2.2)\n",
      "Requirement already satisfied: certifi>=2017.4.17 in d:\\bin\\conda\\envs\\py310\\lib\\site-packages (from requests->transformers<5.0.0,>=4.36.2->texify) (2024.7.4)\n",
      "Downloading texify-0.2.1-py3-none-any.whl (29 kB)\n",
      "Downloading ftfy-6.3.1-py3-none-any.whl (44 kB)\n",
      "Downloading pydantic_settings-2.6.1-py3-none-any.whl (28 kB)\n",
      "Downloading pypdfium2-4.30.0-py3-none-win_amd64.whl (2.9 MB)\n",
      "   ---------------------------------------- 0.0/2.9 MB ? eta -:--:--\n",
      "   --------------------- ------------------ 1.6/2.9 MB 7.0 MB/s eta 0:00:01\n",
      "   ---------------------------------------- 2.9/2.9 MB 8.9 MB/s eta 0:00:00\n",
      "Using cached python_dotenv-1.0.1-py3-none-any.whl (19 kB)\n",
      "Downloading torch-2.5.1-cp310-cp310-win_amd64.whl (203.1 MB)\n",
      "   ---------------------------------------- 0.0/203.1 MB ? eta -:--:--\n",
      "   ---------------------------------------- 2.1/203.1 MB 11.7 MB/s eta 0:00:18\n",
      "    --------------------------------------- 4.7/203.1 MB 11.9 MB/s eta 0:00:17\n",
      "   - -------------------------------------- 7.3/203.1 MB 11.6 MB/s eta 0:00:17\n",
      "   - -------------------------------------- 9.4/203.1 MB 11.3 MB/s eta 0:00:18\n",
      "   -- ------------------------------------- 11.8/203.1 MB 11.2 MB/s eta 0:00:18\n",
      "   -- ------------------------------------- 14.2/203.1 MB 11.1 MB/s eta 0:00:17\n",
      "   --- ------------------------------------ 16.5/203.1 MB 11.2 MB/s eta 0:00:17\n",
      "   --- ------------------------------------ 19.1/203.1 MB 11.3 MB/s eta 0:00:17\n",
      "   ---- ----------------------------------- 21.5/203.1 MB 11.3 MB/s eta 0:00:17\n",
      "   ---- ----------------------------------- 24.1/203.1 MB 11.4 MB/s eta 0:00:16\n",
      "   ----- ---------------------------------- 26.5/203.1 MB 11.3 MB/s eta 0:00:16\n",
      "   ----- ---------------------------------- 29.1/203.1 MB 11.4 MB/s eta 0:00:16\n",
      "   ------ --------------------------------- 31.5/203.1 MB 11.4 MB/s eta 0:00:16\n",
      "   ------ --------------------------------- 34.1/203.1 MB 11.4 MB/s eta 0:00:15\n",
      "   ------- -------------------------------- 36.4/203.1 MB 11.5 MB/s eta 0:00:15\n",
      "   ------- -------------------------------- 39.1/203.1 MB 11.4 MB/s eta 0:00:15\n",
      "   -------- ------------------------------- 41.7/203.1 MB 11.5 MB/s eta 0:00:15\n",
      "   -------- ------------------------------- 44.0/203.1 MB 11.5 MB/s eta 0:00:14\n",
      "   --------- ------------------------------ 46.4/203.1 MB 11.5 MB/s eta 0:00:14\n",
      "   --------- ------------------------------ 48.8/203.1 MB 11.5 MB/s eta 0:00:14\n",
      "   ---------- ----------------------------- 51.4/203.1 MB 11.5 MB/s eta 0:00:14\n",
      "   ---------- ----------------------------- 54.0/203.1 MB 11.5 MB/s eta 0:00:14\n",
      "   ----------- ---------------------------- 56.4/203.1 MB 11.5 MB/s eta 0:00:13\n",
      "   ----------- ---------------------------- 59.0/203.1 MB 11.5 MB/s eta 0:00:13\n",
      "   ------------ --------------------------- 61.3/203.1 MB 11.5 MB/s eta 0:00:13\n",
      "   ------------ --------------------------- 64.0/203.1 MB 11.5 MB/s eta 0:00:13\n",
      "   ------------- -------------------------- 66.3/203.1 MB 11.5 MB/s eta 0:00:12\n",
      "   ------------- -------------------------- 68.7/203.1 MB 11.5 MB/s eta 0:00:12\n",
      "   -------------- ------------------------- 71.3/203.1 MB 11.5 MB/s eta 0:00:12\n",
      "   -------------- ------------------------- 73.9/203.1 MB 11.5 MB/s eta 0:00:12\n",
      "   --------------- ------------------------ 76.3/203.1 MB 11.5 MB/s eta 0:00:11\n",
      "   --------------- ------------------------ 78.9/203.1 MB 11.5 MB/s eta 0:00:11\n",
      "   ---------------- ----------------------- 81.3/203.1 MB 11.5 MB/s eta 0:00:11\n",
      "   ---------------- ----------------------- 83.6/203.1 MB 11.5 MB/s eta 0:00:11\n",
      "   ---------------- ----------------------- 85.7/203.1 MB 11.5 MB/s eta 0:00:11\n",
      "   ----------------- ---------------------- 88.1/203.1 MB 11.4 MB/s eta 0:00:11\n",
      "   ----------------- ---------------------- 90.7/203.1 MB 11.5 MB/s eta 0:00:10\n",
      "   ------------------ --------------------- 93.1/203.1 MB 11.5 MB/s eta 0:00:10\n",
      "   ------------------ --------------------- 95.4/203.1 MB 11.4 MB/s eta 0:00:10\n",
      "   ------------------- -------------------- 97.8/203.1 MB 11.5 MB/s eta 0:00:10\n",
      "   ------------------- -------------------- 98.0/203.1 MB 11.2 MB/s eta 0:00:10\n",
      "   ------------------- ------------------- 100.4/203.1 MB 11.2 MB/s eta 0:00:10\n",
      "   ------------------- ------------------- 102.5/203.1 MB 11.2 MB/s eta 0:00:09\n",
      "   -------------------- ------------------ 105.1/203.1 MB 11.2 MB/s eta 0:00:09\n",
      "   -------------------- ------------------ 107.5/203.1 MB 11.2 MB/s eta 0:00:09\n",
      "   --------------------- ----------------- 109.8/203.1 MB 11.2 MB/s eta 0:00:09\n",
      "   --------------------- ----------------- 111.9/203.1 MB 11.2 MB/s eta 0:00:09\n",
      "   --------------------- ----------------- 114.6/203.1 MB 11.2 MB/s eta 0:00:08\n",
      "   ---------------------- ---------------- 117.2/203.1 MB 11.2 MB/s eta 0:00:08\n",
      "   ---------------------- ---------------- 119.5/203.1 MB 11.2 MB/s eta 0:00:08\n",
      "   ----------------------- --------------- 122.2/203.1 MB 11.2 MB/s eta 0:00:08\n",
      "   ----------------------- --------------- 124.5/203.1 MB 11.2 MB/s eta 0:00:08\n",
      "   ------------------------ -------------- 127.1/203.1 MB 11.2 MB/s eta 0:00:07\n",
      "   ------------------------ -------------- 129.2/203.1 MB 11.2 MB/s eta 0:00:07\n",
      "   ------------------------- ------------- 131.9/203.1 MB 11.2 MB/s eta 0:00:07\n",
      "   ------------------------- ------------- 134.2/203.1 MB 11.2 MB/s eta 0:00:07\n",
      "   -------------------------- ------------ 136.3/203.1 MB 11.2 MB/s eta 0:00:06\n",
      "   -------------------------- ------------ 138.7/203.1 MB 11.2 MB/s eta 0:00:06\n",
      "   -------------------------- ------------ 140.5/203.1 MB 11.2 MB/s eta 0:00:06\n",
      "   --------------------------- ----------- 144.2/203.1 MB 11.2 MB/s eta 0:00:06\n",
      "   ---------------------------- ---------- 146.8/203.1 MB 11.3 MB/s eta 0:00:05\n",
      "   ---------------------------- ---------- 149.4/203.1 MB 11.3 MB/s eta 0:00:05\n",
      "   ----------------------------- --------- 151.8/203.1 MB 11.3 MB/s eta 0:00:05\n",
      "   ----------------------------- --------- 153.9/203.1 MB 11.2 MB/s eta 0:00:05\n",
      "   ------------------------------ -------- 156.2/203.1 MB 11.2 MB/s eta 0:00:05\n",
      "   ------------------------------ -------- 158.6/203.1 MB 11.2 MB/s eta 0:00:04\n",
      "   ------------------------------ -------- 161.0/203.1 MB 11.2 MB/s eta 0:00:04\n",
      "   ------------------------------- ------- 163.1/203.1 MB 11.2 MB/s eta 0:00:04\n",
      "   ------------------------------- ------- 165.4/203.1 MB 11.2 MB/s eta 0:00:04\n",
      "   -------------------------------- ------ 167.8/203.1 MB 11.2 MB/s eta 0:00:04\n",
      "   -------------------------------- ------ 170.4/203.1 MB 11.2 MB/s eta 0:00:03\n",
      "   --------------------------------- ----- 172.8/203.1 MB 11.2 MB/s eta 0:00:03\n",
      "   --------------------------------- ----- 175.1/203.1 MB 11.2 MB/s eta 0:00:03\n",
      "   ---------------------------------- ---- 177.5/203.1 MB 11.2 MB/s eta 0:00:03\n",
      "   ---------------------------------- ---- 180.1/203.1 MB 11.2 MB/s eta 0:00:03\n",
      "   ----------------------------------- --- 182.5/203.1 MB 11.2 MB/s eta 0:00:02\n",
      "   ----------------------------------- --- 184.5/203.1 MB 11.2 MB/s eta 0:00:02\n",
      "   ----------------------------------- --- 186.9/203.1 MB 11.2 MB/s eta 0:00:02\n",
      "   ------------------------------------ -- 189.5/203.1 MB 11.2 MB/s eta 0:00:02\n",
      "   ------------------------------------ -- 191.9/203.1 MB 11.2 MB/s eta 0:00:01\n",
      "   ------------------------------------- - 194.5/203.1 MB 11.2 MB/s eta 0:00:01\n",
      "   ------------------------------------- - 196.9/203.1 MB 11.2 MB/s eta 0:00:01\n",
      "   --------------------------------------  199.2/203.1 MB 11.2 MB/s eta 0:00:01\n",
      "   --------------------------------------  201.6/203.1 MB 11.2 MB/s eta 0:00:01\n",
      "   --------------------------------------  202.9/203.1 MB 11.2 MB/s eta 0:00:01\n",
      "   --------------------------------------  202.9/203.1 MB 11.2 MB/s eta 0:00:01\n",
      "   --------------------------------------  202.9/203.1 MB 11.2 MB/s eta 0:00:01\n",
      "   --------------------------------------- 203.1/203.1 MB 10.9 MB/s eta 0:00:00\n",
      "Downloading sympy-1.13.1-py3-none-any.whl (6.2 MB)\n",
      "   ---------------------------------------- 0.0/6.2 MB ? eta -:--:--\n",
      "   ------------- -------------------------- 2.1/6.2 MB 10.7 MB/s eta 0:00:01\n",
      "   ---------------------------- ----------- 4.5/6.2 MB 11.2 MB/s eta 0:00:01\n",
      "   ---------------------------------------- 6.2/6.2 MB 10.8 MB/s eta 0:00:00\n",
      "Installing collected packages: sympy, python-dotenv, pypdfium2, ftfy, torch, pydantic-settings, texify\n",
      "  Attempting uninstall: sympy\n",
      "    Found existing installation: sympy 1.13.2\n",
      "    Uninstalling sympy-1.13.2:\n",
      "      Successfully uninstalled sympy-1.13.2\n",
      "  Attempting uninstall: torch\n",
      "    Found existing installation: torch 2.1.0+cu118\n",
      "    Uninstalling torch-2.1.0+cu118:\n",
      "      Successfully uninstalled torch-2.1.0+cu118\n",
      "Successfully installed ftfy-6.3.1 pydantic-settings-2.6.1 pypdfium2-4.30.0 python-dotenv-1.0.1 sympy-1.13.1 texify-0.2.1 torch-2.5.1\n"
     ]
    }
   ],
   "source": [
    "!pip install texify"
   ]
  },
  {
   "cell_type": "code",
   "execution_count": 7,
   "metadata": {},
   "outputs": [],
   "source": [
    "import cv2\n",
    "from pdftolatex.block_detector import segment\n",
    "\n",
    "img = cv2.imread('test.png')\n",
    "bboxes = segment(img, True, False)"
   ]
  },
  {
   "cell_type": "code",
   "execution_count": 8,
   "metadata": {},
   "outputs": [
    {
     "name": "stdout",
     "output_type": "stream",
     "text": [
      "(482, 664, 3)\n",
      "177 104 294 47\n"
     ]
    }
   ],
   "source": [
    "import numpy as np\n",
    "\n",
    "print(img.shape) \n",
    "\n",
    "page_img = cv2.cvtColor(np.asarray(img), cv2.COLOR_RGB2BGR)\n",
    "\n",
    "box = bboxes[2]\n",
    "print(box.x, box.y, box.width, box.height)"
   ]
  },
  {
   "cell_type": "code",
   "execution_count": 9,
   "metadata": {},
   "outputs": [
    {
     "data": {
      "image/png": "[encoded data removed]",
      "text/plain": [
       "<Figure size 640x480 with 1 Axes>"
      ]
     },
     "metadata": {},
     "output_type": "display_data"
    }
   ],
   "source": [
    "import matplotlib.pyplot as plt\n",
    "\n",
    "img_part = page_img[box.y:box.y+box.height, box.x:box.x+box.width, :]\n",
    "plt.imshow(img_part)\n",
    "plt.show()"
   ]
  },
  {
   "cell_type": "code",
   "execution_count": 10,
   "metadata": {},
   "outputs": [
    {
     "name": "stdout",
     "output_type": "stream",
     "text": [
      "Loaded texify model to cuda with torch.float16 dtype\n"
     ]
    }
   ],
   "source": [
    "# import pytesseract\n",
    "\n",
    "# content = pytesseract.image_to_data(img_part, output_type=pytesseract.Output.DICT)\n",
    "# \" \".join(content['text'])\n",
    "import os\n",
    "\n",
    "os.environ[\"HTTPS_PROXY\"] = \"http://localhost:7890\"\n",
    "os.environ[\"HTTP_PROXY\"] = \"http://localhost:7890\"\n",
    "\n",
    "from texify.inference import batch_inference\n",
    "from texify.model.model import load_model\n",
    "from texify.model.processor import load_processor\n",
    "from PIL import Image\n",
    "\n",
    "model = load_model()\n",
    "processor = load_processor()"
   ]
  },
  {
   "cell_type": "code",
   "execution_count": 11,
   "metadata": {},
   "outputs": [
    {
     "name": "stdout",
     "output_type": "stream",
     "text": [
      "$${\\cal L}^{C P I}(\\theta)=\\hat{\\mathbb{E}}_{t}\\bigg[\\frac{\\pi_{\\theta}(a_{t}\\mid s_{t})}{\\pi_{\\theta_{\\mathrm{old}}}(a_{t}\\mid s_{t})}\\hat{A}_{t}\\bigg]=\\hat{\\mathbb{E}}_{t}\\Big[r_{t}(\\theta)\\hat{A}_{t}\\Big].$$\n"
     ]
    }
   ],
   "source": [
    "img = Image.fromarray(img_part)\n",
    "# img = Image.open(\"test.png\") # Your image name here\n",
    "results = batch_inference([img], model, processor)\n",
    "print(results[0])"
   ]
  },
  {
   "cell_type": "markdown",
   "metadata": {},
   "source": [
    "$${\\cal L}^{C P I}(\\theta)=\\hat{\\mathbb{E}}_{t}\\bigg[\\frac{\\pi_{\\theta}(a_{t}\\mid s_{t})}{\\pi_{\\theta_{\\mathrm{old}}}(a_{t}\\mid s_{t})}\\hat{A}_{t}\\bigg]=\\hat{\\mathbb{E}}_{t}\\Big[r_{t}(\\theta)\\hat{A}_{t}\\Big].$$"
   ]
  },
  {
   "cell_type": "code",
   "execution_count": 6,
   "metadata": {},
   "outputs": [
    {
     "name": "stdout",
     "output_type": "stream",
     "text": [
      "$$\\left[L^{C P I}(\\theta)={\\hat{\\mathbb{E}}}_{t}\\left[{\\frac{\\pi_{\\theta}(a_{t}\\mid s_{t})}{\\pi_{\\theta_{\\mathrm{old}}}(a_{t}\\mid s_{t})}}{\\hat{A}}_{t}\\right]={\\hat{\\mathbb{E}}}_{t}\\left[r_{t}(\\theta){\\hat{A}}_{t}\\right].\\right]$$\n"
     ]
    }
   ],
   "source": [
    "print(results[0])"
   ]
  },
  {
   "cell_type": "markdown",
   "metadata": {},
   "source": [
    "#### png -> jpg"
   ]
  },
  {
   "cell_type": "code",
   "execution_count": 2,
   "metadata": {},
   "outputs": [
    {
     "name": "stdout",
     "output_type": "stream",
     "text": [
      "转换完成！\n"
     ]
    }
   ],
   "source": [
    "from PIL import Image\n",
    "\n",
    "# 打开PNG图像\n",
    "png_image = Image.open(\"doc/pic.png\")\n",
    "\n",
    "# 将图像转换为RGB模式（如果它不是的话）\n",
    "rgb_image = png_image.convert('RGB')\n",
    "\n",
    "# 保存为JPG格式\n",
    "rgb_image.save(\"doc/detecting_steps.jpg\", \"JPEG\")\n",
    "\n",
    "print(\"转换完成！\")"
   ]
  }
 ],
 "metadata": {
  "kernelspec": {
   "display_name": "py310",
   "language": "python",
   "name": "python3"
  },
  "language_info": {
   "codemirror_mode": {
    "name": "ipython",
    "version": 3
   },
   "file_extension": ".py",
   "mimetype": "text/x-python",
   "name": "python",
   "nbconvert_exporter": "python",
   "pygments_lexer": "ipython3",
   "version": "3.10.14"
  }
 },
 "nbformat": 4,
 "nbformat_minor": 2
}
